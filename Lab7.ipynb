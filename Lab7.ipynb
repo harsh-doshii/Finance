{
 "cells": [
  {
   "cell_type": "code",
   "execution_count": 30,
   "metadata": {},
   "outputs": [
    {
     "data": {
      "text/html": [
       "<div>\n",
       "<style scoped>\n",
       "    .dataframe tbody tr th:only-of-type {\n",
       "        vertical-align: middle;\n",
       "    }\n",
       "\n",
       "    .dataframe tbody tr th {\n",
       "        vertical-align: top;\n",
       "    }\n",
       "\n",
       "    .dataframe thead th {\n",
       "        text-align: right;\n",
       "    }\n",
       "</style>\n",
       "<table border=\"1\" class=\"dataframe\">\n",
       "  <thead>\n",
       "    <tr style=\"text-align: right;\">\n",
       "      <th></th>\n",
       "      <th>Food</th>\n",
       "      <th>Beer</th>\n",
       "      <th>Smoke</th>\n",
       "      <th>Games</th>\n",
       "      <th>Books</th>\n",
       "      <th>Hshld</th>\n",
       "      <th>Clths</th>\n",
       "      <th>Hlth</th>\n",
       "      <th>Chems</th>\n",
       "      <th>Txtls</th>\n",
       "      <th>Cnstr</th>\n",
       "      <th>Steel</th>\n",
       "      <th>FabPr</th>\n",
       "      <th>ElcEq</th>\n",
       "      <th>Autos</th>\n",
       "      <th>Carry</th>\n",
       "      <th>Mines</th>\n",
       "      <th>Coal</th>\n",
       "      <th>Oil</th>\n",
       "      <th>Util</th>\n",
       "      <th>Telcm</th>\n",
       "      <th>Servs</th>\n",
       "      <th>BusEq</th>\n",
       "      <th>Paper</th>\n",
       "      <th>Trans</th>\n",
       "      <th>Whlsl</th>\n",
       "      <th>Rtail</th>\n",
       "      <th>Meals</th>\n",
       "      <th>Fin</th>\n",
       "      <th>Other</th>\n",
       "    </tr>\n",
       "  </thead>\n",
       "  <tbody>\n",
       "    <tr>\n",
       "      <th>1926-07</th>\n",
       "      <td>0.0056</td>\n",
       "      <td>-0.0519</td>\n",
       "      <td>0.0129</td>\n",
       "      <td>0.0293</td>\n",
       "      <td>0.1097</td>\n",
       "      <td>-0.0048</td>\n",
       "      <td>0.0808</td>\n",
       "      <td>0.0177</td>\n",
       "      <td>0.0814</td>\n",
       "      <td>0.0039</td>\n",
       "      <td>0.0207</td>\n",
       "      <td>0.0407</td>\n",
       "      <td>0.0543</td>\n",
       "      <td>0.0318</td>\n",
       "      <td>0.1639</td>\n",
       "      <td>0.0102</td>\n",
       "      <td>0.0564</td>\n",
       "      <td>0.0154</td>\n",
       "      <td>-0.0140</td>\n",
       "      <td>0.0704</td>\n",
       "      <td>0.0083</td>\n",
       "      <td>0.0922</td>\n",
       "      <td>0.0206</td>\n",
       "      <td>0.0770</td>\n",
       "      <td>0.0193</td>\n",
       "      <td>-0.2379</td>\n",
       "      <td>0.0007</td>\n",
       "      <td>0.0187</td>\n",
       "      <td>0.0037</td>\n",
       "      <td>0.0520</td>\n",
       "    </tr>\n",
       "    <tr>\n",
       "      <th>1926-08</th>\n",
       "      <td>0.0259</td>\n",
       "      <td>0.2703</td>\n",
       "      <td>0.0650</td>\n",
       "      <td>0.0055</td>\n",
       "      <td>0.1001</td>\n",
       "      <td>-0.0358</td>\n",
       "      <td>-0.0251</td>\n",
       "      <td>0.0425</td>\n",
       "      <td>0.0550</td>\n",
       "      <td>0.0814</td>\n",
       "      <td>0.0472</td>\n",
       "      <td>0.0217</td>\n",
       "      <td>0.0206</td>\n",
       "      <td>0.0210</td>\n",
       "      <td>0.0423</td>\n",
       "      <td>0.0166</td>\n",
       "      <td>0.0055</td>\n",
       "      <td>0.0085</td>\n",
       "      <td>0.0369</td>\n",
       "      <td>-0.0169</td>\n",
       "      <td>0.0217</td>\n",
       "      <td>0.0202</td>\n",
       "      <td>0.0439</td>\n",
       "      <td>-0.0238</td>\n",
       "      <td>0.0488</td>\n",
       "      <td>0.0539</td>\n",
       "      <td>-0.0075</td>\n",
       "      <td>-0.0013</td>\n",
       "      <td>0.0446</td>\n",
       "      <td>0.0676</td>\n",
       "    </tr>\n",
       "    <tr>\n",
       "      <th>1926-09</th>\n",
       "      <td>0.0116</td>\n",
       "      <td>0.0402</td>\n",
       "      <td>0.0126</td>\n",
       "      <td>0.0658</td>\n",
       "      <td>-0.0099</td>\n",
       "      <td>0.0073</td>\n",
       "      <td>-0.0051</td>\n",
       "      <td>0.0069</td>\n",
       "      <td>0.0533</td>\n",
       "      <td>0.0231</td>\n",
       "      <td>-0.0050</td>\n",
       "      <td>0.0015</td>\n",
       "      <td>0.0036</td>\n",
       "      <td>-0.0056</td>\n",
       "      <td>0.0483</td>\n",
       "      <td>0.0273</td>\n",
       "      <td>0.0174</td>\n",
       "      <td>0.0030</td>\n",
       "      <td>-0.0369</td>\n",
       "      <td>0.0204</td>\n",
       "      <td>0.0241</td>\n",
       "      <td>0.0225</td>\n",
       "      <td>0.0019</td>\n",
       "      <td>-0.0554</td>\n",
       "      <td>0.0005</td>\n",
       "      <td>-0.0787</td>\n",
       "      <td>0.0025</td>\n",
       "      <td>-0.0056</td>\n",
       "      <td>-0.0123</td>\n",
       "      <td>-0.0386</td>\n",
       "    </tr>\n",
       "    <tr>\n",
       "      <th>1926-10</th>\n",
       "      <td>-0.0306</td>\n",
       "      <td>-0.0331</td>\n",
       "      <td>0.0106</td>\n",
       "      <td>-0.0476</td>\n",
       "      <td>0.0947</td>\n",
       "      <td>-0.0468</td>\n",
       "      <td>0.0012</td>\n",
       "      <td>-0.0057</td>\n",
       "      <td>-0.0476</td>\n",
       "      <td>0.0100</td>\n",
       "      <td>-0.0455</td>\n",
       "      <td>-0.0385</td>\n",
       "      <td>0.0111</td>\n",
       "      <td>-0.0573</td>\n",
       "      <td>-0.0793</td>\n",
       "      <td>-0.0556</td>\n",
       "      <td>-0.0320</td>\n",
       "      <td>0.0223</td>\n",
       "      <td>-0.0104</td>\n",
       "      <td>-0.0263</td>\n",
       "      <td>-0.0011</td>\n",
       "      <td>-0.0200</td>\n",
       "      <td>-0.0109</td>\n",
       "      <td>-0.0508</td>\n",
       "      <td>-0.0264</td>\n",
       "      <td>-0.1538</td>\n",
       "      <td>-0.0220</td>\n",
       "      <td>-0.0411</td>\n",
       "      <td>-0.0516</td>\n",
       "      <td>-0.0849</td>\n",
       "    </tr>\n",
       "    <tr>\n",
       "      <th>1926-11</th>\n",
       "      <td>0.0635</td>\n",
       "      <td>0.0729</td>\n",
       "      <td>0.0455</td>\n",
       "      <td>0.0166</td>\n",
       "      <td>-0.0580</td>\n",
       "      <td>-0.0054</td>\n",
       "      <td>0.0187</td>\n",
       "      <td>0.0542</td>\n",
       "      <td>0.0520</td>\n",
       "      <td>0.0311</td>\n",
       "      <td>0.0220</td>\n",
       "      <td>0.0386</td>\n",
       "      <td>0.0318</td>\n",
       "      <td>0.0508</td>\n",
       "      <td>-0.0066</td>\n",
       "      <td>0.0787</td>\n",
       "      <td>0.0846</td>\n",
       "      <td>-0.0048</td>\n",
       "      <td>0.0006</td>\n",
       "      <td>0.0371</td>\n",
       "      <td>0.0163</td>\n",
       "      <td>0.0377</td>\n",
       "      <td>0.0364</td>\n",
       "      <td>0.0384</td>\n",
       "      <td>0.0160</td>\n",
       "      <td>0.0467</td>\n",
       "      <td>0.0652</td>\n",
       "      <td>0.0433</td>\n",
       "      <td>0.0224</td>\n",
       "      <td>0.0400</td>\n",
       "    </tr>\n",
       "  </tbody>\n",
       "</table>\n",
       "</div>"
      ],
      "text/plain": [
       "           Food    Beer   Smoke   Games  ...   Rtail   Meals     Fin   Other\n",
       "1926-07  0.0056 -0.0519  0.0129  0.0293  ...  0.0007  0.0187  0.0037  0.0520\n",
       "1926-08  0.0259  0.2703  0.0650  0.0055  ... -0.0075 -0.0013  0.0446  0.0676\n",
       "1926-09  0.0116  0.0402  0.0126  0.0658  ...  0.0025 -0.0056 -0.0123 -0.0386\n",
       "1926-10 -0.0306 -0.0331  0.0106 -0.0476  ... -0.0220 -0.0411 -0.0516 -0.0849\n",
       "1926-11  0.0635  0.0729  0.0455  0.0166  ...  0.0652  0.0433  0.0224  0.0400\n",
       "\n",
       "[5 rows x 30 columns]"
      ]
     },
     "execution_count": 30,
     "metadata": {},
     "output_type": "execute_result"
    }
   ],
   "source": [
    "import pandas as pd\n",
    "ind = pd.read_csv(\"data/ind30_m_vw_rets.csv\", header=0, index_col=0, parse_dates=True)/100\n",
    "ind.index = pd.to_datetime(ind.index, format=\"%Y%m\").to_period('M')\n",
    "ind.columns=ind.columns.str.strip()\n",
    "ind.head()"
   ]
  },
  {
   "cell_type": "code",
   "execution_count": 31,
   "metadata": {},
   "outputs": [
    {
     "name": "stdout",
     "output_type": "stream",
     "text": [
      "The autoreload extension is already loaded. To reload it, use:\n",
      "  %reload_ext autoreload\n"
     ]
    }
   ],
   "source": [
    "%load_ext autoreload\n",
    "%autoreload 2\n",
    "%matplotlib inline\n",
    "import edhc_risk_kit as erk"
   ]
  },
  {
   "cell_type": "code",
   "execution_count": 32,
   "metadata": {},
   "outputs": [
    {
     "data": {
      "text/plain": [
       "<matplotlib.axes._subplots.AxesSubplot at 0x20c970d6048>"
      ]
     },
     "execution_count": 32,
     "metadata": {},
     "output_type": "execute_result"
    },
    {
     "data": {
      "image/png": "[encoded data removed]",
      "text/plain": [
       "<Figure size 864x432 with 1 Axes>"
      ]
     },
     "metadata": {
      "needs_background": "light"
     },
     "output_type": "display_data"
    }
   ],
   "source": [
    "erk.drawdown(ind[\"Food\"])[\"Drawdowns\"].plot(figsize=(12,6))"
   ]
  },
  {
   "cell_type": "code",
   "execution_count": 33,
   "metadata": {},
   "outputs": [
    {
     "data": {
      "text/plain": [
       "Food     0.061207\n",
       "Beer     0.033881\n",
       "Smoke    0.080292\n",
       "dtype: float64"
      ]
     },
     "execution_count": 33,
     "metadata": {},
     "output_type": "execute_result"
    }
   ],
   "source": [
    "erk.var_gaussian(ind[[\"Food\", \"Beer\", \"Smoke\"]], modified=True)"
   ]
  },
  {
   "cell_type": "code",
   "execution_count": 36,
   "metadata": {},
   "outputs": [
    {
     "data": {
      "text/plain": [
       "<matplotlib.axes._subplots.AxesSubplot at 0x20c966582b0>"
      ]
     },
     "execution_count": 36,
     "metadata": {},
     "output_type": "execute_result"
    },
    {
     "data": {
      "image/png": "[encoded data removed]",
      "text/plain": [
       "<Figure size 432x288 with 1 Axes>"
      ]
     },
     "metadata": {
      "needs_background": "light"
     },
     "output_type": "display_data"
    }
   ],
   "source": [
    "erk.sharpe_ratio(ind, 0.03, 12).sort_values().plot.bar()"
   ]
  },
  {
   "cell_type": "code",
   "execution_count": 43,
   "metadata": {},
   "outputs": [
    {
     "data": {
      "text/plain": [
       "<matplotlib.axes._subplots.AxesSubplot at 0x20c93be3048>"
      ]
     },
     "execution_count": 43,
     "metadata": {},
     "output_type": "execute_result"
    },
    {
     "data": {
      "image/png": "[encoded data removed]",
      "text/plain": [
       "<Figure size 432x288 with 1 Axes>"
      ]
     },
     "metadata": {
      "needs_background": "light"
     },
     "output_type": "display_data"
    }
   ],
   "source": [
    "er = erk.annual_rets(ind[\"1995\":\"2000\"], 12)\n",
    "er.plot()"
   ]
  },
  {
   "cell_type": "code",
   "execution_count": 46,
   "metadata": {},
   "outputs": [
    {
     "data": {
      "text/html": [
       "<div>\n",
       "<style scoped>\n",
       "    .dataframe tbody tr th:only-of-type {\n",
       "        vertical-align: middle;\n",
       "    }\n",
       "\n",
       "    .dataframe tbody tr th {\n",
       "        vertical-align: top;\n",
       "    }\n",
       "\n",
       "    .dataframe thead th {\n",
       "        text-align: right;\n",
       "    }\n",
       "</style>\n",
       "<table border=\"1\" class=\"dataframe\">\n",
       "  <thead>\n",
       "    <tr style=\"text-align: right;\">\n",
       "      <th></th>\n",
       "      <th>Food</th>\n",
       "      <th>Beer</th>\n",
       "      <th>Smoke</th>\n",
       "      <th>Games</th>\n",
       "      <th>Books</th>\n",
       "      <th>Hshld</th>\n",
       "      <th>Clths</th>\n",
       "      <th>Hlth</th>\n",
       "      <th>Chems</th>\n",
       "      <th>Txtls</th>\n",
       "      <th>Cnstr</th>\n",
       "      <th>Steel</th>\n",
       "      <th>FabPr</th>\n",
       "      <th>ElcEq</th>\n",
       "      <th>Autos</th>\n",
       "      <th>Carry</th>\n",
       "      <th>Mines</th>\n",
       "      <th>Coal</th>\n",
       "      <th>Oil</th>\n",
       "      <th>Util</th>\n",
       "      <th>Telcm</th>\n",
       "      <th>Servs</th>\n",
       "      <th>BusEq</th>\n",
       "      <th>Paper</th>\n",
       "      <th>Trans</th>\n",
       "      <th>Whlsl</th>\n",
       "      <th>Rtail</th>\n",
       "      <th>Meals</th>\n",
       "      <th>Fin</th>\n",
       "      <th>Other</th>\n",
       "    </tr>\n",
       "  </thead>\n",
       "  <tbody>\n",
       "    <tr>\n",
       "      <th>Food</th>\n",
       "      <td>0.002287</td>\n",
       "      <td>0.002077</td>\n",
       "      <td>0.001757</td>\n",
       "      <td>0.000701</td>\n",
       "      <td>0.000886</td>\n",
       "      <td>0.001208</td>\n",
       "      <td>0.001474</td>\n",
       "      <td>0.001105</td>\n",
       "      <td>0.001253</td>\n",
       "      <td>0.001021</td>\n",
       "      <td>0.001282</td>\n",
       "      <td>0.000027</td>\n",
       "      <td>0.000613</td>\n",
       "      <td>0.001146</td>\n",
       "      <td>0.000547</td>\n",
       "      <td>0.001419</td>\n",
       "      <td>0.000829</td>\n",
       "      <td>0.000034</td>\n",
       "      <td>0.000933</td>\n",
       "      <td>0.000858</td>\n",
       "      <td>0.000610</td>\n",
       "      <td>0.000211</td>\n",
       "      <td>-0.000280</td>\n",
       "      <td>0.001205</td>\n",
       "      <td>0.001312</td>\n",
       "      <td>0.000633</td>\n",
       "      <td>0.001165</td>\n",
       "      <td>0.001085</td>\n",
       "      <td>0.001839</td>\n",
       "      <td>0.000898</td>\n",
       "    </tr>\n",
       "    <tr>\n",
       "      <th>Beer</th>\n",
       "      <td>0.002077</td>\n",
       "      <td>0.004599</td>\n",
       "      <td>0.001143</td>\n",
       "      <td>0.001147</td>\n",
       "      <td>0.000765</td>\n",
       "      <td>0.002447</td>\n",
       "      <td>0.001415</td>\n",
       "      <td>0.001689</td>\n",
       "      <td>0.001292</td>\n",
       "      <td>0.001721</td>\n",
       "      <td>0.001945</td>\n",
       "      <td>0.000131</td>\n",
       "      <td>0.000666</td>\n",
       "      <td>0.001107</td>\n",
       "      <td>0.001296</td>\n",
       "      <td>0.001804</td>\n",
       "      <td>0.000272</td>\n",
       "      <td>0.001261</td>\n",
       "      <td>0.000672</td>\n",
       "      <td>0.000631</td>\n",
       "      <td>0.000978</td>\n",
       "      <td>0.000400</td>\n",
       "      <td>0.000028</td>\n",
       "      <td>0.001455</td>\n",
       "      <td>0.001974</td>\n",
       "      <td>0.000609</td>\n",
       "      <td>0.001442</td>\n",
       "      <td>0.001634</td>\n",
       "      <td>0.002236</td>\n",
       "      <td>0.001196</td>\n",
       "    </tr>\n",
       "    <tr>\n",
       "      <th>Smoke</th>\n",
       "      <td>0.001757</td>\n",
       "      <td>0.001143</td>\n",
       "      <td>0.007130</td>\n",
       "      <td>0.000296</td>\n",
       "      <td>-0.000099</td>\n",
       "      <td>0.000981</td>\n",
       "      <td>0.000761</td>\n",
       "      <td>0.000877</td>\n",
       "      <td>0.000687</td>\n",
       "      <td>0.000555</td>\n",
       "      <td>0.001181</td>\n",
       "      <td>0.000167</td>\n",
       "      <td>0.000668</td>\n",
       "      <td>-0.000013</td>\n",
       "      <td>0.000223</td>\n",
       "      <td>0.001485</td>\n",
       "      <td>0.001311</td>\n",
       "      <td>-0.000544</td>\n",
       "      <td>0.000849</td>\n",
       "      <td>0.001118</td>\n",
       "      <td>0.000057</td>\n",
       "      <td>-0.000266</td>\n",
       "      <td>-0.000300</td>\n",
       "      <td>0.001061</td>\n",
       "      <td>0.000241</td>\n",
       "      <td>0.001363</td>\n",
       "      <td>0.000069</td>\n",
       "      <td>0.000590</td>\n",
       "      <td>0.001117</td>\n",
       "      <td>0.001418</td>\n",
       "    </tr>\n",
       "    <tr>\n",
       "      <th>Games</th>\n",
       "      <td>0.000701</td>\n",
       "      <td>0.001147</td>\n",
       "      <td>0.000296</td>\n",
       "      <td>0.003271</td>\n",
       "      <td>0.001485</td>\n",
       "      <td>0.001018</td>\n",
       "      <td>0.001814</td>\n",
       "      <td>0.001219</td>\n",
       "      <td>0.001547</td>\n",
       "      <td>0.001291</td>\n",
       "      <td>0.001723</td>\n",
       "      <td>0.002670</td>\n",
       "      <td>0.002498</td>\n",
       "      <td>0.001980</td>\n",
       "      <td>0.001994</td>\n",
       "      <td>0.001644</td>\n",
       "      <td>0.001600</td>\n",
       "      <td>0.001557</td>\n",
       "      <td>0.000968</td>\n",
       "      <td>0.000023</td>\n",
       "      <td>0.001615</td>\n",
       "      <td>0.002399</td>\n",
       "      <td>0.002935</td>\n",
       "      <td>0.001615</td>\n",
       "      <td>0.001438</td>\n",
       "      <td>0.001681</td>\n",
       "      <td>0.001649</td>\n",
       "      <td>0.001383</td>\n",
       "      <td>0.002080</td>\n",
       "      <td>0.002088</td>\n",
       "    </tr>\n",
       "    <tr>\n",
       "      <th>Books</th>\n",
       "      <td>0.000886</td>\n",
       "      <td>0.000765</td>\n",
       "      <td>-0.000099</td>\n",
       "      <td>0.001485</td>\n",
       "      <td>0.002302</td>\n",
       "      <td>0.000876</td>\n",
       "      <td>0.002037</td>\n",
       "      <td>0.000657</td>\n",
       "      <td>0.001559</td>\n",
       "      <td>0.001362</td>\n",
       "      <td>0.001531</td>\n",
       "      <td>0.001797</td>\n",
       "      <td>0.001704</td>\n",
       "      <td>0.002084</td>\n",
       "      <td>0.001550</td>\n",
       "      <td>0.001301</td>\n",
       "      <td>0.001281</td>\n",
       "      <td>0.002051</td>\n",
       "      <td>0.000868</td>\n",
       "      <td>0.000455</td>\n",
       "      <td>0.001627</td>\n",
       "      <td>0.001996</td>\n",
       "      <td>0.001624</td>\n",
       "      <td>0.001481</td>\n",
       "      <td>0.001576</td>\n",
       "      <td>0.001205</td>\n",
       "      <td>0.001995</td>\n",
       "      <td>0.001026</td>\n",
       "      <td>0.001979</td>\n",
       "      <td>0.001283</td>\n",
       "    </tr>\n",
       "  </tbody>\n",
       "</table>\n",
       "</div>"
      ],
      "text/plain": [
       "           Food      Beer     Smoke  ...     Meals       Fin     Other\n",
       "Food   0.002287  0.002077  0.001757  ...  0.001085  0.001839  0.000898\n",
       "Beer   0.002077  0.004599  0.001143  ...  0.001634  0.002236  0.001196\n",
       "Smoke  0.001757  0.001143  0.007130  ...  0.000590  0.001117  0.001418\n",
       "Games  0.000701  0.001147  0.000296  ...  0.001383  0.002080  0.002088\n",
       "Books  0.000886  0.000765 -0.000099  ...  0.001026  0.001979  0.001283\n",
       "\n",
       "[5 rows x 30 columns]"
      ]
     },
     "execution_count": 46,
     "metadata": {},
     "output_type": "execute_result"
    }
   ],
   "source": [
    "cov = ind[\"1995\":\"2000\"].cov()\n",
    "cov.head()"
   ]
  },
  {
   "cell_type": "code",
   "execution_count": 47,
   "metadata": {},
   "outputs": [
    {
     "data": {
      "text/plain": [
       "(30, 30)"
      ]
     },
     "execution_count": 47,
     "metadata": {},
     "output_type": "execute_result"
    }
   ],
   "source": [
    "cov.shape"
   ]
  },
  {
   "cell_type": "code",
   "execution_count": null,
   "metadata": {},
   "outputs": [],
   "source": [
    "\n"
   ]
  }
 ],
 "metadata": {
  "kernelspec": {
   "display_name": "Python 3",
   "language": "python",
   "name": "python3"
  },
  "language_info": {
   "codemirror_mode": {
    "name": "ipython",
    "version": 3
   },
   "file_extension": ".py",
   "mimetype": "text/x-python",
   "name": "python",
   "nbconvert_exporter": "python",
   "pygments_lexer": "ipython3",
   "version": "3.7.3"
  }
 },
 "nbformat": 4,
 "nbformat_minor": 2
}
